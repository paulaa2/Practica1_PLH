{
 "cells": [
  {
   "cell_type": "markdown",
   "metadata": {},
   "source": [
    "## Preprocès: ##\n",
    "\n",
    "- Eliminar els digits del text\n",
    "- Convertir tot el text a minúscula\n",
    "- Substitueix els espais en blanc continus per un de sol\n",
    "- Concatena totes les frases amb un espai doble al mig \n"
   ]
  },
  {
   "cell_type": "code",
   "execution_count": 40,
   "metadata": {},
   "outputs": [],
   "source": [
    "import re \n",
    "from nltk.collocations import TrigramCollocationFinder, ngrams\n",
    "from collections import Counter, defaultdict\n",
    "import os\n",
    "import numpy as np\n",
    "from sklearn.metrics import accuracy_score, precision_score, f1_score, confusion_matrix\n",
    "from sklearn.preprocessing import MinMaxScaler"
   ]
  },
  {
   "cell_type": "code",
   "execution_count": null,
   "metadata": {},
   "outputs": [],
   "source": [
    "def preprocess_text(text):\n",
    "    text = re.sub(r'\\d+', '', text) \n",
    "    text = text.lower()  \n",
    "    text = re.sub(r'\\s+', ' ', text)  \n",
    "    text = re.sub(r'\\n', '  ', text)  \n",
    "    return text\n",
    "\n",
    "def load_and_preprocess_data(data_path):\n",
    "    with open(data_path, 'r', encoding='utf-8') as file:\n",
    "        text = file.read()\n",
    "    return preprocess_text(text)\n",
    "\n",
    "\n",
    "languages = ['deu', 'eng', 'fra', 'ita', 'nld', 'spa']\n",
    "path = 'C:/Users/Paess/Documents/Uni/Segon/PLH/langId'\n",
    "train = {}\n",
    "test = []\n",
    "\n",
    "for idiom in languages:\n",
    "    file_path = os.path.join(path, f'{idiom}_trn.txt')\n",
    "    text = load_and_preprocess_data(file_path)\n",
    "    train[idiom] = text\n",
    "\n",
    "for idiom in languages:\n",
    "    file_path = os.path.join(path, f'{idiom}_tst.txt')\n",
    "    texts = load_and_preprocess_data(file_path).split('  ')\n",
    "    test.extend([(text, idiom) for text in texts])\n",
    "    X_test, y_test = zip(*test)\n",
    "\n",
    "\n",
    "train_split = {}\n",
    "val_split = {}\n",
    "\n",
    "for idiom in languages:\n",
    "    text = train[idiom]\n",
    "    split_index = int(len(text) * 0.8)\n",
    "    train_split[idiom] = text[:split_index]\n",
    "    val_split[idiom] = text[split_index:]\n",
    "\n"
   ]
  },
  {
   "cell_type": "code",
   "execution_count": null,
   "metadata": {},
   "outputs": [
    {
     "name": "stdout",
     "output_type": "stream",
     "text": [
      " • • • . .% how the \n"
     ]
    }
   ],
   "source": [
    "print(train_split['eng'][:20])"
   ]
  },
  {
   "cell_type": "code",
   "execution_count": null,
   "metadata": {},
   "outputs": [],
   "source": [
    "def generate_trigrams(text):\n",
    "    \n",
    "    lletres = list(text)  # Convierte el texto en una lista de caracteres\n",
    "    trigrams = [''.join(trigram) for trigram in ngrams(lletres, 3) if len(trigram) == 3]\n",
    "    \n",
    "    print(f\"Ejemplo de trigramas generados para el texto: {text[:50]} ...\")  # Depuración\n",
    "    print(f\"Primeros trigramas generados: {trigrams[:10]}\\n\")  # Depuración\n",
    "    print(f\"Primeros trigramas generados: {trigrams}\\n\")  # Depuración\n",
    "    \n",
    "    return trigrams\n",
    "\n",
    "def frequent_trigrams(trigrams):\n",
    "    trigram_counts = Counter(trigrams)\n",
    "    frequent_trigrams_set = {trigram for trigram, count in trigram_counts.items() if count >= 5}\n",
    "    return [trigram for trigram in trigrams if trigram in frequent_trigrams_set]\n",
    "\n",
    "\n",
    "\n",
    "for idiom in train_split: \n",
    "    train_split[idiom] = frequent_trigrams(generate_trigrams(train_split[idiom]))\n",
    "    val_split[idiom] = frequent_trigrams(generate_trigrams(val_split[idiom]))\n",
    "    \n"
   ]
  },
  {
   "cell_type": "code",
   "execution_count": 47,
   "metadata": {},
   "outputs": [
    {
     "name": "stdout",
     "output_type": "stream",
     "text": [
      "[' ..', '.. ', '. w', ' wi', 'wis', 'iss', 'sse', 'sen', 'ens', 'nsc']\n",
      "[' • ', ' • ', ' • ', ' . ', '. .', ' .%', '.% ', ' ho', 'how', 'ow ']\n",
      "[' le', 'le ', 'e p', ' pr', 'pré', 'rés', 'ési', 'sid', 'ide', 'den']\n"
     ]
    }
   ],
   "source": [
    "print(train_split['deu'][:10])\n",
    "print(train_split['eng'][:10])\n",
    "print(train_split['fra'][:10])\n"
   ]
  },
  {
   "cell_type": "code",
   "execution_count": 48,
   "metadata": {},
   "outputs": [
    {
     "name": "stdout",
     "output_type": "stream",
     "text": [
      "Idioma: deu, Número de trigramas: 2683074\n",
      "Idioma: eng, Número de trigramas: 2870839\n",
      "Idioma: fra, Número de trigramas: 2918039\n",
      "Idioma: ita, Número de trigramas: 3024687\n",
      "Idioma: nld, Número de trigramas: 2496599\n",
      "Idioma: spa, Número de trigramas: 3131846\n"
     ]
    }
   ],
   "source": [
    "for lang, trigrams in train_split.items():\n",
    "    print(f\"Idioma: {lang}, Número de trigramas: {len(trigrams)}\")"
   ]
  },
  {
   "cell_type": "code",
   "execution_count": 49,
   "metadata": {},
   "outputs": [],
   "source": [
    "info_lang = {}\n",
    "for lang, trigrams in train_split.items():\n",
    "    NT = len(trigrams)\n",
    "    B = 30**3\n",
    "    info_lang[lang] = {'NT': NT, 'B': B}"
   ]
  },
  {
   "cell_type": "markdown",
   "metadata": {},
   "source": [
    "LID = Ct(ej)+lambda/Nt+lambdaB, B= # trigrames diferents Nt= # trigrames "
   ]
  },
  {
   "cell_type": "code",
   "execution_count": 50,
   "metadata": {},
   "outputs": [],
   "source": [
    "def LID(count_trigram, NT, B, lam=0.5):\n",
    "    return np.log((count_trigram + lam) / (NT + lam * B))\n"
   ]
  },
  {
   "cell_type": "code",
   "execution_count": 51,
   "metadata": {},
   "outputs": [],
   "source": [
    "def entrenament_model(train, lam=0.5):\n",
    "    trigram_counts = {trigram: {lang: 0 for lang in languages} for lang in languages for trigram in train.get(lang, [])}\n",
    "    \n",
    "    for lang, lang_trigrams in train.items():\n",
    "        for trigram in lang_trigrams:\n",
    "            trigram_counts[trigram][lang] += 1\n",
    "    \n",
    "    trigram_LID = {}\n",
    "    for trigram, lang_counts in trigram_counts.items():\n",
    "        trigram_LID[trigram] = {lang: LID(count, info_lang[lang]['NT'], info_lang[lang]['B'], lam) for lang, count in lang_counts.items()}\n",
    "    \n",
    "    return trigram_LID"
   ]
  },
  {
   "cell_type": "code",
   "execution_count": 58,
   "metadata": {},
   "outputs": [],
   "source": [
    "def predict_language(text, trigram_LID, lam=0.5):\n",
    "    text_preprocessat = preprocess_text(text)  \n",
    "    trigrams = generate_trigrams(text_preprocessat) \n",
    "    \n",
    "    LID_per_lang = {lang: 0 for lang in info_lang}  \n",
    "    \n",
    "    for trigram in trigrams:\n",
    "        if trigram in trigram_LID:\n",
    "            LID_per_lang_trigram = trigram_LID[trigram]  \n",
    "        else:\n",
    "            LID_per_lang_trigram = {lang: LID(0, info_lang[lang]['NT'], info_lang[lang]['B'], lam) for lang in info_lang}\n",
    "        for lang, LID_trigram in LID_per_lang_trigram.items():\n",
    "            LID_per_lang[lang] += LID_trigram \n",
    "    max_language = max(LID_per_lang, key=LID_per_lang.get)  \n",
    "    \n",
    "    return LID_per_lang, max_language"
   ]
  },
  {
   "cell_type": "code",
   "execution_count": 53,
   "metadata": {},
   "outputs": [],
   "source": [
    "trigram_LID = entrenament_model(train_split, 0.5)\n"
   ]
  },
  {
   "cell_type": "code",
   "execution_count": 59,
   "metadata": {},
   "outputs": [
    {
     "name": "stdout",
     "output_type": "stream",
     "text": [
      "Ejemplo de trigramas generados para el texto: hola que tal como estas ...\n",
      "Primeros trigramas generados: ['hol', 'ola', 'la ', 'a q', ' qu', 'que', 'ue ', 'e t', ' ta', 'tal']\n",
      "\n",
      "Primeros trigramas generados: ['hol', 'ola', 'la ', 'a q', ' qu', 'que', 'ue ', 'e t', ' ta', 'tal', 'al ', 'l c', ' co', 'com', 'omo', 'mo ', 'o e', ' es', 'est', 'sta', 'tas']\n",
      "\n",
      "({'deu': np.float64(-192.46890045147802), 'eng': np.float64(-171.32050728704098), 'fra': np.float64(-162.66588996274788), 'ita': np.float64(-148.91650573329719), 'nld': np.float64(-187.58083504450917), 'spa': np.float64(-135.4831993369978)}, 'spa')\n"
     ]
    }
   ],
   "source": [
    "text = \"Hola que tal como estas\"\n",
    "\n",
    "print(predict_language(text, trigram_LID, 0.5))"
   ]
  }
 ],
 "metadata": {
  "kernelspec": {
   "display_name": "Python 3",
   "language": "python",
   "name": "python3"
  },
  "language_info": {
   "codemirror_mode": {
    "name": "ipython",
    "version": 3
   },
   "file_extension": ".py",
   "mimetype": "text/x-python",
   "name": "python",
   "nbconvert_exporter": "python",
   "pygments_lexer": "ipython3",
   "version": "3.11.9"
  }
 },
 "nbformat": 4,
 "nbformat_minor": 2
}
