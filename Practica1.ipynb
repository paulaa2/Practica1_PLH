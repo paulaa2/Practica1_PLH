{
  "cells": [
    {
      "cell_type": "markdown",
      "metadata": {
        "id": "gPVvMvo0gV1W"
      },
      "source": [
        "# Pràctica 1 #\n",
        "\n",
        "Paula Esteve Sabater i Claudia Gallego Torralbo\n",
        "\n",
        "3 de març del 2025\n",
        "\n",
        "\n",
        "### Preprocès: ###\n",
        "\n",
        "- Eliminar els digits del text\n",
        "- Convertir tot el text a minúscula\n",
        "- Substitueix els espais en blanc continus per un de sol\n",
        "- Concatena totes les frases amb un espai doble al mig\n"
      ]
    },
    {
      "cell_type": "code",
      "execution_count": null,
      "metadata": {
        "id": "e5kr6Hn8gV1Y"
      },
      "outputs": [],
      "source": [
        "import re\n",
        "from nltk.collocations import TrigramCollocationFinder, ngrams\n",
        "from collections import Counter, defaultdict\n",
        "import os\n",
        "import numpy as np\n",
        "from sklearn.metrics import accuracy_score, precision_score, f1_score, confusion_matrix\n",
        "from sklearn.preprocessing import MinMaxScaler\n",
        "from sklearn.metrics import confusion_matrix\n",
        "import matplotlib.pyplot as plt\n",
        "import seaborn as sns\n",
        "import glob"
      ]
    },
    {
      "cell_type": "markdown",
      "metadata": {
        "id": "0AJ2VPdsgV1Z"
      },
      "source": [
        "S’han creat dos funcions, una per fer les modificacions pertients a cada text i una per carregar els textos de cada idioma i preprocessar els textos utiltzant la funció anterior. A continuació s’han utilitzat bucles per dur a terme la carrega del textos per cada idioma.\n",
        "\n",
        "Totes aquestes dades processades s’han emmagatzemat en un diccionari per al train, on cada clau es l'idioma i el valor és el text. Pel test hem fet servir un una llista per X_test, on es guarden les frases, i un altre per y_test on es guarda l'idioma de cada frase per després comprobar. Pel train"
      ]
    },
    {
      "cell_type": "code",
      "execution_count": null,
      "metadata": {
        "id": "_-KK4xj3gV1Z"
      },
      "outputs": [],
      "source": [
        "def preprocess_text(text):\n",
        "    text = re.sub(r'\\d+', '', text)\n",
        "    text = text.lower()\n",
        "    text = re.sub(r'\\s+', ' ', text)\n",
        "    text = re.sub(r'\\n', '  ', text)\n",
        "    return text\n",
        "\n",
        "def load_and_preprocess_data(data_path):\n",
        "    with open(data_path, 'r', encoding='utf-8') as file:\n",
        "        text = file.read()\n",
        "    return preprocess_text(text)\n",
        "\n",
        "\n",
        "languages = ['deu', 'eng', 'fra', 'ita', 'nld', 'spa']\n",
        "path = 'C:/Users/Paess/Documents/Uni/Segon/PLH/langId'\n",
        "train_split = {}\n",
        "\n",
        "\n",
        "for idiom in languages:\n",
        "    file_path = os.path.join(path, f'{idiom}_trn.txt')\n",
        "    text = load_and_preprocess_data(file_path)\n",
        "    train_split[idiom] = text\n",
        "\n",
        "\n",
        "X_test = []\n",
        "y_test = []\n",
        "\n",
        "for idiom in languages:\n",
        "    file_path = os.path.join(path, f'{idiom}_tst.txt')\n",
        "\n",
        "    with open(file_path, 'r', encoding='utf-8') as file:\n",
        "        lines = file.readlines()\n",
        "\n",
        "    for line in lines:\n",
        "        sentence = preprocess_text(line.strip())\n",
        "        if sentence:\n",
        "            X_test.append(sentence)\n",
        "            y_test.append(idiom)\n",
        "\n",
        "\n",
        "\n"
      ]
    },
    {
      "cell_type": "markdown",
      "metadata": {
        "id": "nyCbPzzxgV1Z"
      },
      "source": [
        "S’han creat dos funcions, una per generar els trigrams i una per eliminar els trigrames amb frequencia menor que 5. Dinalment, s'ha utilitzat un bucle per dur a terme aquestes dues funciones i aixi quedarnos amb els trigrames més frequents de cada idioma."
      ]
    },
    {
      "cell_type": "code",
      "execution_count": null,
      "metadata": {
        "id": "TuojgwNCgV1a"
      },
      "outputs": [],
      "source": [
        "def generate_trigrams(text):\n",
        "\n",
        "    lletres = list(text)\n",
        "    trigrams = [''.join(trigram) for trigram in ngrams(lletres, 3) if len(trigram) == 3]\n",
        "    return trigrams\n",
        "\n",
        "def frequent_trigrams(trigrams):\n",
        "    trigram_counts = Counter(trigrams)\n",
        "    frequent_trigrams_set = {trigram for trigram, count in trigram_counts.items() if count >= 5}\n",
        "    return [trigram for trigram in trigrams if trigram in frequent_trigrams_set]\n",
        "\n",
        "\n",
        "\n",
        "for idiom in train_split:\n",
        "    train_split[idiom] = frequent_trigrams(generate_trigrams(train_split[idiom]))\n",
        "\n"
      ]
    },
    {
      "cell_type": "markdown",
      "metadata": {
        "id": "D2kTPxbvgV1a"
      },
      "source": [
        "Aquest fragment de codi calcula i emmagatzema paràmetres clau per a cada idioma al diccionari parametres_LID, recorrent els trigrames del conjunt d'entrenament train_split i calculant dos valors essencials: NT, que representa el nombre total de trigrames en el conjunt d'entrenament d'un idioma específic, i B, que correspon a l'espai total de possibles trigrams 27 caràcters incloent l'espai"
      ]
    },
    {
      "cell_type": "code",
      "execution_count": null,
      "metadata": {
        "id": "BW70Yn8MgV1a"
      },
      "outputs": [],
      "source": [
        "parametres_LID = {}\n",
        "for idiom, trigrams in train_split.items():\n",
        "    NT = len(trigrams)\n",
        "    B = 27**3\n",
        "    parametres_LID[idiom] = {'NT': NT, 'B': B}"
      ]
    },
    {
      "cell_type": "markdown",
      "metadata": {
        "id": "VKoBmkk8gV1b"
      },
      "source": [
        "\n",
        "$$ LID = \\frac{C_t(e_j) + \\lambda}{N_t + \\lambda B} $$\n",
        "\n",
        "on:  \n",
        "- \\( C_t(e_j) \\) és el recompte del trigram \\( e_j \\) en la llengua \\( t \\).  \n",
        "- \\( \\lambda \\) és el paràmetre de suavització.  \n",
        "- \\( N_t \\) és el nombre total de trigramas en la llengua \\( t \\).  \n",
        "- \\( B \\) és el nombre total de trigramas possibles.  \n",
        "\n",
        "Aquesta fórmula permet calcular la probabilitat estimada d'un trigram en una llengua donada.\n"
      ]
    },
    {
      "cell_type": "code",
      "execution_count": null,
      "metadata": {
        "id": "gwqUUk5ogV1b"
      },
      "outputs": [],
      "source": [
        "def LID(count_trigram, NT, B, lam=0.5):\n",
        "    result= np.log((count_trigram + lam) / (NT + lam * B))\n",
        "    return result"
      ]
    },
    {
      "cell_type": "markdown",
      "metadata": {
        "id": "xGEfL70HgV1b"
      },
      "source": [
        "Primer, creem un diccionari trigram_counts, on per a cada trigram present en les dades d'entrenament train, s'assigna un subdiccionari que inicialitza el recompte d'aquell trigram per a cada llengua. Després, recorre els trigramas de cada llengua i actualitza els seus recomptes dins de trigram_counts. A continuació, es construeix trigram_LID, que conté les probabilitats calculades per a cada trigram en cada llengua mitjançant la funció LID(), que utilitza els paràmetres NT (nombre total de trigramas en cada llengua) i B (nombre total de trigramas possibles) per estimar la probabilitat de cada trigram aplicant suavització amb lam. Finalment, la funció retorna trigram_LID, un diccionari que representa la distribució de trigramas i les seves probabilitats associades per a cada llengua, permetent així utilitzar aquest model per predir la llengua de noves frases en fases posteriors."
      ]
    },
    {
      "cell_type": "code",
      "execution_count": null,
      "metadata": {
        "id": "7DQzORyBgV1b"
      },
      "outputs": [],
      "source": [
        "def entrenament_model(train, lam=0.5):\n",
        "    trigram_counts = {trigram: {lang: 0 for lang in languages} for lang in languages for trigram in train.get(lang, [])}\n",
        "\n",
        "    for lang, lang_trigrams in train.items():\n",
        "        for trigram in lang_trigrams:\n",
        "            trigram_counts[trigram][lang] += 1\n",
        "\n",
        "    trigram_LID = {}\n",
        "    for trigram, lang_counts in trigram_counts.items():\n",
        "        trigram_LID[trigram] = {lang: LID(count, parametres_LID[lang]['NT'], parametres_LID[lang]['B'], lam) for lang, count in lang_counts.items()}\n",
        "\n",
        "    return trigram_LID"
      ]
    },
    {
      "cell_type": "markdown",
      "metadata": {
        "id": "cghjMwl_gV1c"
      },
      "source": [
        "Aquesta funció s'encarrega de predir la llengua d'un text donat mitjançant l'anàlisi dels seus trigramas i la comparació amb un model entrenat. Primer, preprocesa el text amb preprocess_text i genera els trigramas corresponents amb generate_trigrams. A continuació, inicialitza LID_idiom, un diccionari que conté la probabilitat acumulada per a cada llengua, inicialitzada a zero. Per cada trigrama generat, comprova si existeix en trigram_LID; si és així, recupera les probabilitats associades a cada llengua, i si no, assigna una probabilitat suposada aplicant la funció LID() amb un recompte inicial de zero i els paràmetres de suavització. Després, acumula aquests valors en LID_idiom, reflectint la probabilitat total del text per a cada llengua. Posteriorment, aplica una normalització Min-Max per reescalar els valors entre 0 i 100 per fer-los comparables. Finalment, determina la llengua amb la probabilitat més alta i retorna un diccionari amb les probabilitats normalitzades de cada llengua i la llengua més probable segons el model."
      ]
    },
    {
      "cell_type": "code",
      "execution_count": null,
      "metadata": {
        "id": "4EvNC-_dgV1c"
      },
      "outputs": [],
      "source": [
        "\n",
        "def predict(text, trigram_LID, lam=0.5):\n",
        "    text_preprocessat = preprocess_text(text)\n",
        "    trigrams = generate_trigrams(text_preprocessat)\n",
        "\n",
        "    LID_idiom = {lang: 0 for lang in parametres_LID}\n",
        "\n",
        "    for trigram in trigrams:\n",
        "        if trigram in trigram_LID:\n",
        "            LID_per_lang_trigram = trigram_LID[trigram]\n",
        "        else:\n",
        "            LID_per_lang_trigram = {idiom: LID(0, parametres_LID[idiom]['NT'], parametres_LID[idiom]['B'], lam) for idiom in parametres_LID}\n",
        "        for idiom, LID_trigram in LID_per_lang_trigram.items():\n",
        "            LID_idiom[idiom] += LID_trigram\n",
        "\n",
        "    min_val = min(LID_idiom.values())\n",
        "    max_val = max(LID_idiom.values())\n",
        "\n",
        "    if max_val == min_val:\n",
        "        probabilities = {lang: float(100 / len(LID_idiom)) for lang in LID_idiom}\n",
        "    else:\n",
        "        probabilities = {lang: float(((score - min_val) / (max_val - min_val)) * 100) for lang, score in LID_idiom.items()}\n",
        "\n",
        "    max_language = max(probabilities, key=probabilities.get)\n",
        "\n",
        "    return probabilities, max_language"
      ]
    },
    {
      "cell_type": "markdown",
      "metadata": {
        "id": "NzHx27lcgV1c"
      },
      "source": [
        "Aquesta línia de codi crida la funció entrenament_model, que entrena un model d'identificació de llengua basat en trigramas a partir de les dades de train_split. La funció entrenament_model calcula la freqüència dels trigramas en cada llengua i aplica la funció LID() per estimar la probabilitat de cada trigrama mitjançant una suavització amb el paràmetre λ = 0.5. El resultat d'aquest entrenament es guarda a trigram_LID, un diccionari que conté, per a cada trigrama, un subdiccionari amb les probabilitats de pertànyer a cadascuna de les llengües considerades.\n",
        "\n",
        "A continuació, es fa una prova amb una frase senzilla en castellà i es pot observar que retorna un 100% de probabilitats de que sigui en castellà, cosa que suggereix que el model funciona correctament."
      ]
    },
    {
      "cell_type": "code",
      "execution_count": null,
      "metadata": {
        "id": "87e6DptHgV1c"
      },
      "outputs": [],
      "source": [
        "trigram_LID = entrenament_model(train_split, 0.5)\n"
      ]
    },
    {
      "cell_type": "code",
      "execution_count": null,
      "metadata": {
        "id": "7SMepbyugV1c",
        "outputId": "35cd3bab-eef0-474e-cca8-4ad9ff249b1e"
      },
      "outputs": [
        {
          "name": "stdout",
          "output_type": "stream",
          "text": [
            "({'deu': 0.0, 'eng': 30.98663077465626, 'fra': 32.036619211925114, 'ita': 40.80517789906333, 'nld': 5.072339698187936, 'spa': 100.0}, 'spa')\n"
          ]
        }
      ],
      "source": [
        "text = \"Hola, com estás?\"\n",
        "\n",
        "print(predict(text, trigram_LID, 0.5))"
      ]
    },
    {
      "cell_type": "markdown",
      "source": [
        "Aquesta funció s'encarrega d'analitzar si el model creat anteriorment funciona de la manera esperada amb un conjunt de textos diferents amb els quals s'ha entrenat. Fa servir els paràmetres X_test i Y_test, per calcular, amb la funció predict, la llengua de la mostra X_test amb probabilitat més alta i la compara amb Y_test, la llengua real de la mostra. Si a la variable missclass se li assigna valor True, llavors la funció també imprimeix les frases classificades erròniament i les llengües tant real com predita.\n",
        "\n",
        "A continuació, la funció calcula diverses mesures d'avaluació per analitzar la idoneïtat del model."
      ],
      "metadata": {
        "id": "1dQgorXotDSg"
      }
    },
    {
      "cell_type": "code",
      "execution_count": null,
      "metadata": {
        "id": "ETzwU4gbgV1d"
      },
      "outputs": [],
      "source": [
        "def test(X_test, y_test, trigram_LID, lam=0.5, missclass = False):\n",
        "    y_pred = []\n",
        "    for sentence, actual_lang in zip(X_test, y_test):\n",
        "        _, lang = predict(sentence, trigram_LID, lam)\n",
        "        y_pred.append(lang)\n",
        "        if missclass and lang != actual_lang:\n",
        "            print(f\"Misclassified sentence: {sentence}\")\n",
        "            print(f\"Predicted language: {lang}\")\n",
        "            print(f\"Actual language: {actual_lang}\")\n",
        "            print(\"---\")\n",
        "    accuracy = accuracy_score(y_test, y_pred)\n",
        "    precision = precision_score(y_test, y_pred, average='weighted')\n",
        "    f1 = f1_score(y_test, y_pred, average='weighted')\n",
        "    conf_matrix = confusion_matrix(y_test, y_pred)\n",
        "    return accuracy, precision, f1, conf_matrix"
      ]
    },
    {
      "cell_type": "markdown",
      "source": [
        "El següent tros de codi correspon a la funció creada per a la cerca dels millors hiperparàmetres per aplicar al model. La funció realitza l'entrenament i testatge del model amb els paràmetres desitjats i retorna el f1 score i el diccionari que representa la distribució de trigrames i les seves probabilitats associades per a cada llengua (trigram_LID). Per lambda s'han provat els valors 0.1, 0.5, 1.0, 5.0, 10.0 i per B els valors 27** 3, 30** 3, 35** 3, 40** 3. Per utilitzar la funció s'han creat dos bucles niuats que recorrin totes les possibles combinacions dels valors a aplicar."
      ],
      "metadata": {
        "id": "x2KEpXGawtAJ"
      }
    },
    {
      "cell_type": "code",
      "execution_count": null,
      "metadata": {
        "id": "ocwfl0HogV1d",
        "outputId": "924ab696-b983-474b-c953-8c7b8d1d2b09"
      },
      "outputs": [
        {
          "name": "stdout",
          "output_type": "stream",
          "text": [
            " F1-score obtingut: 0.9988\n",
            " F1-score obtingut: 0.9988\n",
            " F1-score obtingut: 0.9988\n",
            " F1-score obtingut: 0.9988\n",
            " F1-score obtingut: 0.9989\n",
            " F1-score obtingut: 0.9989\n",
            " F1-score obtingut: 0.9989\n",
            " F1-score obtingut: 0.9989\n",
            " F1-score obtingut: 0.9989\n",
            " F1-score obtingut: 0.9989\n",
            " F1-score obtingut: 0.9989\n",
            " F1-score obtingut: 0.9989\n",
            " F1-score obtingut: 0.9989\n",
            " F1-score obtingut: 0.9989\n",
            " F1-score obtingut: 0.9989\n",
            " F1-score obtingut: 0.9989\n",
            " F1-score obtingut: 0.9989\n",
            " F1-score obtingut: 0.9989\n",
            " F1-score obtingut: 0.9989\n",
            " F1-score obtingut: 0.9989\n",
            "\n",
            " Millors hiperparàmetres trobats:\n",
            "   - Lambda (λ): 10.0\n",
            "   - B: 19683\n",
            "   - F1-score: 0.9989\n"
          ]
        }
      ],
      "source": [
        "lambda_values = [0.1, 0.5, 1.0, 5.0, 10.0]\n",
        "B_values = [27**3, 30**3, 35**3, 40**3]\n",
        "\n",
        "best_f1 = 0\n",
        "best_params = None\n",
        "best_trigram_LID = None\n",
        "best_lam = None\n",
        "\n",
        "def evaluate_hyperparameters(lam, B):\n",
        "    global parametres_LID\n",
        "\n",
        "    parametres_LID = {\n",
        "        idiom: {'NT': len(trigrams), 'B': B} for idiom, trigrams in train_split.items()\n",
        "    }\n",
        "\n",
        "    trigram_LID = entrenament_model(train_split, lam)\n",
        "    accuracy, precision, f1, _ = test(X_test, y_test, trigram_LID, lam)\n",
        "\n",
        "    return f1, trigram_LID\n",
        "\n",
        "for lam in lambda_values:\n",
        "    for B in B_values:\n",
        "        f1, trigram_LID = evaluate_hyperparameters(lam, B)\n",
        "        print(f\" F1-score obtingut: {f1:.4f}\")\n",
        "\n",
        "        if f1 > best_f1:\n",
        "            best_f1 = f1\n",
        "            best_params = (lam, B)\n",
        "            best_trigram_LID = trigram_LID\n",
        "            best_lam = lam\n",
        "\n",
        "print(\"\\n Millors hiperparàmetres trobats:\")\n",
        "print(f\"   - Lambda (λ): {best_lam}\")\n",
        "print(f\"   - B: {best_params[1]}\")\n",
        "print(f\"   - F1-score: {best_f1:.4f}\")\n",
        "\n",
        "trigram_LID = best_trigram_LID\n"
      ]
    },
    {
      "cell_type": "markdown",
      "source": [
        "Aquesta última part del codi correspon a l'avaluació del model amb els millors hiperparàmetres. S'ha utilitzat la funció test (prèviament explicada) assignant a la variable missclass el valor de True.\n",
        "\n",
        "Per últim, s'ha imprès per pantalla les mesures d'avaluació i s'ha creat una matriu de confusió."
      ],
      "metadata": {
        "id": "oBXkUq6s1bow"
      }
    },
    {
      "cell_type": "code",
      "execution_count": null,
      "metadata": {
        "id": "qU9177IugV1d",
        "outputId": "cc57eda1-5755-4511-eb54-f628050e48c6"
      },
      "outputs": [
        {
          "name": "stdout",
          "output_type": "stream",
          "text": [
            "Misclassified sentence:  call of duty: black ops (bild: activision) call of duty: black ops spielt in düsterer zukunft call of duty: black ops (bild: activision) im quellcode der offiziellen seite hat activision ein paar informationen über black ops untergebracht.\n",
            "Predicted language: eng\n",
            "Actual language: deu\n",
            "---\n",
            "Misclassified sentence:  der stoffbeutel war leer.\n",
            "Predicted language: nld\n",
            "Actual language: deu\n",
            "---\n",
            "Misclassified sentence:  hij was de leider van de groep in de provincie khorasan van de islamitische staat.\n",
            "Predicted language: nld\n",
            "Actual language: deu\n",
            "---\n",
            "Misclassified sentence:  ist das land bald insolvent?\n",
            "Predicted language: eng\n",
            "Actual language: deu\n",
            "---\n",
            "Misclassified sentence:  jarjarthomas . jan theorethisch ist es simpel.\n",
            "Predicted language: eng\n",
            "Actual language: deu\n",
            "---\n",
            "Misclassified sentence:  was ist wicop?\n",
            "Predicted language: eng\n",
            "Actual language: deu\n",
            "---\n",
            "Misclassified sentence:  wat er nu gebeurt, is heel zwaar voor hem als jonge gast.\n",
            "Predicted language: nld\n",
            "Actual language: deu\n",
            "---\n",
            "Misclassified sentence:  internet trouble.\n",
            "Predicted language: fra\n",
            "Actual language: eng\n",
            "---\n",
            "Misclassified sentence:  soulignons que la pièce window seat se retrouve sur lalbum new amerykah part two: return of the ankh lancé ce mois-ci.\n",
            "Predicted language: eng\n",
            "Actual language: fra\n",
            "---\n",
            "Misclassified sentence:  les anderlechtois devront avant tout museler ruud van nistelrooy.\n",
            "Predicted language: nld\n",
            "Actual language: fra\n",
            "---\n",
            "Misclassified sentence:  enfin, l'impeccable déroulé de la prestation des quatre musiciens (rava, trompette, giovanni guidi, piano, gabriele evangelista, contrebasse, et fabrizio sferra, batterie).\n",
            "Predicted language: ita\n",
            "Actual language: fra\n",
            "---\n",
            "Misclassified sentence:  'non non, il dit.\n",
            "Predicted language: ita\n",
            "Actual language: fra\n",
            "---\n",
            "Misclassified sentence:  encore une star addict de twiiter!\n",
            "Predicted language: eng\n",
            "Actual language: fra\n",
            "---\n",
            "Misclassified sentence:  pepsico grignote ,% à dollars.\n",
            "Predicted language: ita\n",
            "Actual language: fra\n",
            "---\n",
            "Misclassified sentence:  herman van rompuy bart de wever : ne traîne pas trop, zeg.\n",
            "Predicted language: nld\n",
            "Actual language: fra\n",
            "---\n",
            "Misclassified sentence:  ben faut cracher, sinon passe ton chemin wenger!\n",
            "Predicted language: eng\n",
            "Actual language: fra\n",
            "---\n",
            "Misclassified sentence:  ingenico: retenu par best buy en turquie.\n",
            "Predicted language: spa\n",
            "Actual language: fra\n",
            "---\n",
            "Misclassified sentence:  enzo bricolo (page perso, ) le // à :.\n",
            "Predicted language: ita\n",
            "Actual language: fra\n",
            "---\n",
            "Misclassified sentence:  wolseley: morgan stanley relève son objectif de cours.\n",
            "Predicted language: eng\n",
            "Actual language: fra\n",
            "---\n",
            "Misclassified sentence:  il est disponible sous divers os : linux (la distribution itlinux, comprenant firefox .), windows embedded ce (internet explorer ) et windows embedded standard (internet explorer ).\n",
            "Predicted language: eng\n",
            "Actual language: fra\n",
            "---\n",
            "Misclassified sentence:  actueilement, il enseigne à la city university of new york et collabore au webzine the daily beast.\n",
            "Predicted language: eng\n",
            "Actual language: fra\n",
            "---\n",
            "Misclassified sentence:  sachsenring - passo indietro per marco melandri al sachsenring.\n",
            "Predicted language: deu\n",
            "Actual language: ita\n",
            "---\n",
            "Misclassified sentence:  champions o europa league?\n",
            "Predicted language: fra\n",
            "Actual language: ita\n",
            "---\n",
            "Misclassified sentence:  anche air france, klm, thai airways, easyjet e ryanair hanno oggi cancellato i voli.\n",
            "Predicted language: eng\n",
            "Actual language: ita\n",
            "---\n",
            "Misclassified sentence:  durante la .a tappa del tour de france, saint girons-crête du lys, perde la vita fabio casartelli.\n",
            "Predicted language: fra\n",
            "Actual language: ita\n",
            "---\n",
            "Misclassified sentence:  tra queste credit suisse segnala brystol e myers squibb.\n",
            "Predicted language: fra\n",
            "Actual language: ita\n",
            "---\n",
            "Misclassified sentence:  buenos aires - 'in cosa ti ho tradito?\n",
            "Predicted language: spa\n",
            "Actual language: ita\n",
            "---\n",
            "Misclassified sentence:  chelsea - west bromwich -. domenica: liverpool - arsenal ore ; lunedì: manchester utd - newcastle ore .\n",
            "Predicted language: eng\n",
            "Actual language: ita\n",
            "---\n",
            "Misclassified sentence:  arriva alvaro gonzalez, ennesimo talento made in uruguay.\n",
            "Predicted language: spa\n",
            "Actual language: ita\n",
            "---\n",
            "Misclassified sentence:  wall street in deciso rosso.\n",
            "Predicted language: eng\n",
            "Actual language: ita\n",
            "---\n",
            "Misclassified sentence:  anne hathaway \"mostra tutto\".\n",
            "Predicted language: eng\n",
            "Actual language: ita\n",
            "---\n",
            "Misclassified sentence:  naughty bear, ecco le modalità multiplayer!\n",
            "Predicted language: eng\n",
            "Actual language: ita\n",
            "---\n",
            "Misclassified sentence:  un luogo \"freddo, umido, disgustoso\".\n",
            "Predicted language: spa\n",
            "Actual language: ita\n",
            "---\n",
            "Misclassified sentence:  roger waters: anche in europa 'the wall' dei pink floyd?\n",
            "Predicted language: eng\n",
            "Actual language: ita\n",
            "---\n",
            "Misclassified sentence:  biografie paulina is de dochter van enrique rubio en actrice susana dosamantes.\n",
            "Predicted language: spa\n",
            "Actual language: nld\n",
            "---\n",
            "Misclassified sentence:  breckenridge speelde in andere films, zoals loving annabelle, let them chirp awhile, the favor, beautiful loser, en amusement uit als shelby leds.\n",
            "Predicted language: eng\n",
            "Actual language: nld\n",
            "---\n",
            "Misclassified sentence:  de familie woonde in married quaters op ridout row, royal military college of canada.\n",
            "Predicted language: eng\n",
            "Actual language: nld\n",
            "---\n",
            "Misclassified sentence:  de term werd bedacht door anthony downs in an economic theory of democracy uit .\n",
            "Predicted language: eng\n",
            "Actual language: nld\n",
            "---\n",
            "Misclassified sentence:  de verenigingen gingen verder onder de naam verband deutscher verkehrsunternehmen (vdv).\n",
            "Predicted language: deu\n",
            "Actual language: nld\n",
            "---\n",
            "Misclassified sentence:  de volgende frazioni maken deel uit van de gemeente: anzio colonia, marechiaro, cincinnato, falasche, villa claudia, lavinio stazione, lavinio mare, padiglione, lido dei pini.\n",
            "Predicted language: ita\n",
            "Actual language: nld\n",
            "---\n",
            "Misclassified sentence:  de volgende frazioni maken deel uit van de gemeente: bagnolo, vignola, rontagnano, strigara, montegelli, ponte uso, ponte rosso, montetiffi, s.maria riopetra, bivio montegelli.\n",
            "Predicted language: ita\n",
            "Actual language: nld\n",
            "---\n",
            "Misclassified sentence:  de volgende frazioni maken deel uit van de gemeente: cerreto ratti, castel ratti, molo borbera, monteggio, persi, sorli.\n",
            "Predicted language: ita\n",
            "Actual language: nld\n",
            "---\n",
            "Misclassified sentence:  dit betreft de namen a, b, c, süd, nord en mitte.\n",
            "Predicted language: deu\n",
            "Actual language: nld\n",
            "---\n",
            "Misclassified sentence:  herbstmühle telt inwoners.\n",
            "Predicted language: deu\n",
            "Actual language: nld\n",
            "---\n",
            "Misclassified sentence:  het duo werd the world's greatest tag team \".\n",
            "Predicted language: eng\n",
            "Actual language: nld\n",
            "---\n",
            "Misclassified sentence:  het spel heeft vier modi: exhibition, tournament, playoffs en league.\n",
            "Predicted language: eng\n",
            "Actual language: nld\n",
            "---\n",
            "Misclassified sentence:  het station ligt onder de avinguda de can serra en naast de avinguda d'isabel la católica.\n",
            "Predicted language: fra\n",
            "Actual language: nld\n",
            "---\n",
            "Misclassified sentence:  in ging midnet op in connexxion.\n",
            "Predicted language: eng\n",
            "Actual language: nld\n",
            "---\n",
            "Misclassified sentence:  levensloop jean-françois lafontaine was een zoon van jean-françois-michel lafontaine en van anne-matrie haquenne.\n",
            "Predicted language: fra\n",
            "Actual language: nld\n",
            "---\n",
            "Misclassified sentence:  mcgilligan () over haar leven met eastwood schreef locke de memoir the good, the bad, and the very ugly.\n",
            "Predicted language: eng\n",
            "Actual language: nld\n",
            "---\n",
            "Misclassified sentence:  ook als (mede-)auteur van boeken is hij bekend, zoals contemporary composers on contemporary music anthology, music since , electronic music: a listener's guide, the symphonies of ralph vaughan williams en music: ways of listening.\n",
            "Predicted language: eng\n",
            "Actual language: nld\n",
            "---\n",
            "Misclassified sentence:  recent is big ook gestart met outsourcing.\n",
            "Predicted language: eng\n",
            "Actual language: nld\n",
            "---\n",
            "Misclassified sentence:  rond en trad hij op in wish you were here (), peter greenaway 's prospero's books, swing en in de film the krays.\n",
            "Predicted language: eng\n",
            "Actual language: nld\n",
            "---\n",
            "Misclassified sentence:  rudi paret: der koran, e editie, kohlhammer, stuttgart , pag. : wee hen die anderen tekort doen.\n",
            "Predicted language: deu\n",
            "Actual language: nld\n",
            "---\n",
            "Misclassified sentence:  ze bezocht de prestigieuze high school of music and the performing arts.\n",
            "Predicted language: eng\n",
            "Actual language: nld\n",
            "---\n",
            "Misclassified sentence:  zwemster kirsty coventry won drie medailles.\n",
            "Predicted language: eng\n",
            "Actual language: nld\n",
            "---\n",
            "Misclassified sentence:  torre de control responde negativamente.\n",
            "Predicted language: ita\n",
            "Actual language: spa\n",
            "---\n",
            "Misclassified sentence:  del beagle no he escrito nada.\n",
            "Predicted language: ita\n",
            "Actual language: spa\n",
            "---\n",
            "Misclassified sentence:  se me puso la carne de gallina.\n",
            "Predicted language: ita\n",
            "Actual language: spa\n",
            "---\n",
            "Misclassified sentence:  all nippon airways recibe el primer boeing dreamliner tokio (efe).\n",
            "Predicted language: eng\n",
            "Actual language: spa\n",
            "---\n",
            "Misclassified sentence:  amy winehouse, su vida en imágenes fotos - shaun curry (afp) - -- muere amy winehouse.\n",
            "Predicted language: eng\n",
            "Actual language: spa\n",
            "---\n",
            "Misclassified sentence:  philip smith says: december th, at : pm hola, soy productor habitual de cerveza artesanal.\n",
            "Predicted language: eng\n",
            "Actual language: spa\n",
            "---\n",
            "Misclassified sentence:  explique brevemente por qué.\n",
            "Predicted language: fra\n",
            "Actual language: spa\n",
            "---\n",
            "Misclassified sentence:  pero no solo eso.\n",
            "Predicted language: ita\n",
            "Actual language: spa\n",
            "---\n",
            "Accuracy: 0.9989\n",
            "Precision: 0.9989341818210403\n",
            "F1-score: 0.9989\n"
          ]
        },
        {
          "data": {
            "image/png": "[encoded data removed]",
            "text/plain": [
              "<Figure size 800x600 with 2 Axes>"
            ]
          },
          "metadata": {},
          "output_type": "display_data"
        }
      ],
      "source": [
        "accuracy, precision, f1, conf_matrix = test(X_test, y_test, trigram_LID, best_lam, missclass=True)\n",
        "\n",
        "# Mostrar métricas de evaluación\n",
        "print(f'Accuracy: {accuracy:.4f}')\n",
        "print(f'Precision: {precision}')\n",
        "print(f'F1-score: {f1:.4f}')\n",
        "\n",
        "classes = np.unique(y_test)\n",
        "\n",
        "\n",
        "plt.figure(figsize=(8, 6))\n",
        "sns.set(font_scale=1.2)\n",
        "sns.heatmap(conf_matrix, annot=True, annot_kws={\"size\": 12}, cmap=\"Blues\", fmt=\".2f\", xticklabels=classes, yticklabels=classes)\n",
        "plt.xlabel('Predicted Label')\n",
        "plt.ylabel('True Label')\n",
        "plt.title('Confusion Matrix')\n",
        "plt.show()\n"
      ]
    },
    {
      "cell_type": "markdown",
      "source": [
        "En els resultats obtinguts podem visualitzar que l'errònia classificació de l'idioma del text és més freqüent entre idiomes amb paraules similars o que pertanyen a una mateixa família de llengües.\n",
        "\n",
        "Encara que analitzant els resultats podríem extreure la conclusió que molts errors poden ser deguts a la utilització de paraules estrangeres assimilades al mateix idioma. S'observa clarament en el cas de l'anglès, un idioma del qual moltes altres llengües utilitzen les seves paraules en el vocabulari comú i per aquest motiu és predit com a la llengua de molts textos quan no ho és, però a la inversa no succeeix.\n",
        "\n",
        "Com a conclusió, com més properes siguin les llengües entre si, i més contacte i coincidència existeixi (tant bidireccional com unidireccional) més probabilitats existeixen de predir erròniament l'idioma del text."
      ],
      "metadata": {
        "id": "VVHIII5b6dbK"
      }
    }
  ],
  "metadata": {
    "kernelspec": {
      "display_name": "Python 3",
      "language": "python",
      "name": "python3"
    },
    "language_info": {
      "codemirror_mode": {
        "name": "ipython",
        "version": 3
      },
      "file_extension": ".py",
      "mimetype": "text/x-python",
      "name": "python",
      "nbconvert_exporter": "python",
      "pygments_lexer": "ipython3",
      "version": "3.11.9"
    },
    "colab": {
      "provenance": [],
      "toc_visible": true
    }
  },
  "nbformat": 4,
  "nbformat_minor": 0
}